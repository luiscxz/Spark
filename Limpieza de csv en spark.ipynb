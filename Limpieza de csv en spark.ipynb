{
 "cells": [
  {
   "cell_type": "markdown",
   "id": "4f0b1a62",
   "metadata": {},
   "source": [
    "**Tabla de contenido**\n",
    "\n",
    "- [Preparación entorno spark](#Preparacion-entorno-spark)\n",
    "- [Lectura de datos](#Lectura-de-datos)\n",
    "- [Limpieza y transformacion](#Limpieza-y-transformacion)\n",
    "    - [Duplicados](#Duplicados)\n",
    "    - [Convertir columnas a su respectivo formato](#Convertir-columnas-a-su-respectivo-formato)\n",
    "    - [Valores faltantes](#Valores-faltantes)\n",
    "    - [Eliminar caracteres especiales](#Eliminar-caracteres-especiales)\n",
    "- [Broadcast join](#Broadcast-join)"
   ]
  },
  {
   "cell_type": "markdown",
   "id": "20673ecc",
   "metadata": {},
   "source": [
    "# Preparacion entorno spark"
   ]
  },
  {
   "cell_type": "markdown",
   "id": "de96ac8c",
   "metadata": {},
   "source": [
    "Vamos a preparar el entorno de trabajo con las siguientes configuraciones:\n",
    "\n",
    "1. Importaciones:\n",
    "\n",
    "- `SparkContext:` Punto de entrada principal para funcionalidades de Spark\n",
    "- `SparkSession:` Interfaz unificada para trabajar con datos en Spark\n",
    "\n",
    "\n",
    "2. `sc = SparkContext('local')`:\n",
    "\n",
    "- Crea un contexto de Spark en modo local. \n",
    "- Significa que Spark correrá en tu máquina, usando todos los núcleos disponibles.\n",
    "- Ideal para desarrollo y pruebas\n",
    "3. `spark = SparkSession(sc):`\n",
    "\n",
    "- Crea una sesión de Spark usando el contexto previamente creado\n",
    "- Permite trabajar con DataFrames y realizar operaciones SQL\n",
    "- Es la forma moderna de interactuar con Spark (reemplaza RDDs antiguos)"
   ]
  },
  {
   "cell_type": "code",
   "execution_count": 1,
   "id": "5aa5d3a1",
   "metadata": {},
   "outputs": [
    {
     "name": "stderr",
     "output_type": "stream",
     "text": [
      "WARNING: Using incubator modules: jdk.incubator.vector\n",
      "Using Spark's default log4j profile: org/apache/spark/log4j2-defaults.properties\n",
      "Setting default log level to \"WARN\".\n",
      "To adjust logging level use sc.setLogLevel(newLevel). For SparkR, use setLogLevel(newLevel).\n",
      "25/07/23 14:47:01 WARN NativeCodeLoader: Unable to load native-hadoop library for your platform... using builtin-java classes where applicable\n"
     ]
    }
   ],
   "source": [
    "from pyspark import SparkContext\n",
    "from pyspark.sql.session import SparkSession\n",
    "\n",
    "sc = SparkContext('local')\n",
    "spark = SparkSession(sc)"
   ]
  },
  {
   "cell_type": "markdown",
   "id": "2aea5f11",
   "metadata": {},
   "source": [
    "# Lectura de datos"
   ]
  },
  {
   "cell_type": "markdown",
   "id": "82bf4319",
   "metadata": {},
   "source": [
    "Vamos a leer el dataframe y lo almacenaremos en el cache por la siguientes razones:\n",
    "1. Estaremos llamando el dataframe muchas veces ya que lo vamos a limpiar. Si no cacheas, Spark recalculará desde el origen en cada paso intermedio (ineficiente).\n",
    "2. El dataframe es pequeño, por lo cual cabe en memoria.\n",
    "\n",
    "`Beneficios`\n",
    "\n",
    "- Velocidad: Operaciones como dropDuplicates() o groupBy() serán más rápidas al evitar recalcular desde el origen.\n",
    "\n",
    "- Simplicidad: No necesitas preocuparte por repetir lecturas del archivo.\n",
    "\n",
    "- Debugging: Puedes revisar resultados intermedios con show() sin penalización de rendimiento.\n",
    "\n",
    "`¿Cuándo NO cachear?`\n",
    "\n",
    "- Si el DataFrame solo se usa una vez.\n",
    "- Si haces una sola acción después de todas las transformaciones.\n",
    "\n",
    "`Para DataFrames grandes que no caben en memoria pero requieren reutilización:̣`\n",
    "\n",
    "- Usa MEMORY_AND_DISK como nivel de persistencia.\n",
    "\n",
    "- Reparticiona para manejar trozos más pequeños.\n",
    "\n",
    "- Monitoriza el uso de recursos en la UI de Spark."
   ]
  },
  {
   "cell_type": "code",
   "execution_count": 2,
   "id": "2cb13680",
   "metadata": {},
   "outputs": [
    {
     "name": "stdout",
     "output_type": "stream",
     "text": [
      "+--------+--------------+----------------+--------+----------+--------------------+\n",
      "|Store_ID|          City|       Open_Date|Zip_Code|     Phone|               Email|\n",
      "+--------+--------------+----------------+--------+----------+--------------------+\n",
      "|       1| *San Antonio*|24/07/2003 21:45|   78015|2136875667| *store1@retail.com*|\n",
      "|       2| @San Antonio!| 27/10/2005 7:01|   78201|2135167236| @store2@retail.com!|\n",
      "|       3| #San Antonio#|01/02/2007 16:59|   78112|2123501192|#store3@walmart.com#|\n",
      "|       4|     &Houston&| 17/07/2004 0:28|   77001|3129778178|&store4@walmart.com&|\n",
      "|       5|     !Houston!| 23/04/2009 1:08|   77002|7136191883|  !store5@store.com!|\n",
      "|       6| $Los Angeles$|10/08/2006 19:42|   90001|2127216342|  $store6@store.com$|\n",
      "|       7|     %Phoenix%| 16/10/2007 8:02|   60601|7138018755|  %store7@store.com%|\n",
      "|       8|   #San Diego#| 10/03/2002 5:40|   94023|2125445446| #store8@retail.com#|\n",
      "|       9|    @New York@| 24/07/2007 4:31|   10001|3122242101|  @store9@store.com@|\n",
      "|      10|!Philadelphia!|21/05/2007 13:40|   19019|2135196422|!store10@walmart....|\n",
      "+--------+--------------+----------------+--------+----------+--------------------+\n",
      "only showing top 10 rows\n"
     ]
    }
   ],
   "source": [
    "import os\n",
    "\n",
    "file_path = lambda file: os.path.join(os.getcwd(),'data',file)\n",
    "df = spark.read.csv(file_path('Table_Store.csv'),sep=',',header=True)\n",
    "df.show(10)"
   ]
  },
  {
   "cell_type": "markdown",
   "id": "46752634",
   "metadata": {},
   "source": [
    "Veamos la estructura del dataframe"
   ]
  },
  {
   "cell_type": "code",
   "execution_count": 3,
   "id": "4627b4cb",
   "metadata": {},
   "outputs": [
    {
     "name": "stdout",
     "output_type": "stream",
     "text": [
      "root\n",
      " |-- Store_ID: string (nullable = true)\n",
      " |-- City: string (nullable = true)\n",
      " |-- Open_Date: string (nullable = true)\n",
      " |-- Zip_Code: string (nullable = true)\n",
      " |-- Phone: string (nullable = true)\n",
      " |-- Email: string (nullable = true)\n",
      "\n"
     ]
    }
   ],
   "source": [
    "df.printSchema()"
   ]
  },
  {
   "cell_type": "markdown",
   "id": "13b94041",
   "metadata": {},
   "source": [
    "Podemos observar lo siguiente:\n",
    "1. Todas las columnas son de tipo String\n",
    "1. Todas las columnas permiten valores nulos `nullable = true`"
   ]
  },
  {
   "cell_type": "markdown",
   "id": "653436bb",
   "metadata": {},
   "source": [
    "# Limpieza y transformacion"
   ]
  },
  {
   "cell_type": "markdown",
   "id": "ade907a0",
   "metadata": {},
   "source": [
    "La limpieza y transformación de los datos la vamos a realizar siguiendo los siguientes pasos:\n",
    "\n",
    "1. Consultar la cantidad de registros dúplicados\n",
    "2. Convertir las columnas a su respectivo formato.\n",
    "3. Consultar la cantidad de valores faltantes\n",
    "4. Eliminar caracteres especiales\n"
   ]
  },
  {
   "cell_type": "markdown",
   "id": "1cb772fd",
   "metadata": {},
   "source": [
    "## Duplicados"
   ]
  },
  {
   "cell_type": "code",
   "execution_count": 4,
   "id": "e48cc723",
   "metadata": {},
   "outputs": [
    {
     "name": "stdout",
     "output_type": "stream",
     "text": [
      "Existen un total de 0 registros dúplicados\n"
     ]
    }
   ],
   "source": [
    "duplicados = df.groupBy(df.columns).count().filter('count > 1').count()\n",
    "print(f\"Existen un total de {duplicados} registros dúplicados\")\n",
    "df= df.dropDuplicates() # elimina los dúplicados"
   ]
  },
  {
   "cell_type": "markdown",
   "id": "dae60172",
   "metadata": {},
   "source": [
    "## Convertir columnas a su respectivo formato"
   ]
  },
  {
   "cell_type": "code",
   "execution_count": 5,
   "id": "02e3abab",
   "metadata": {},
   "outputs": [
    {
     "name": "stdout",
     "output_type": "stream",
     "text": [
      "root\n",
      " |-- Store_ID: integer (nullable = true)\n",
      " |-- City: string (nullable = true)\n",
      " |-- Open_Date: timestamp (nullable = true)\n",
      " |-- Zip_Code: string (nullable = true)\n",
      " |-- Phone: string (nullable = true)\n",
      " |-- Email: string (nullable = true)\n",
      "\n"
     ]
    }
   ],
   "source": [
    "from pyspark.sql.functions import to_timestamp, col\n",
    "\n",
    "columns_to_num = [\"Store_ID\"] # columnas a convertir a entero\n",
    "for col_name in columns_to_num:\n",
    "    df = df.withColumn(col_name, df[col_name].cast(\"int\"))\n",
    "\n",
    "# convierte la clumna Open_Date a datetime \n",
    "df = df.withColumn(\"Open_Date\", to_timestamp(col(\"Open_Date\"), \"dd/MM/yyyy H:mm\"))\n",
    "df = df.sort(\"Store_ID\")\n",
    "df.printSchema()"
   ]
  },
  {
   "cell_type": "code",
   "execution_count": 6,
   "id": "c72b8016",
   "metadata": {},
   "outputs": [
    {
     "name": "stdout",
     "output_type": "stream",
     "text": [
      "+--------+--------------+-------------------+--------+----------+--------------------+\n",
      "|Store_ID|          City|          Open_Date|Zip_Code|     Phone|               Email|\n",
      "+--------+--------------+-------------------+--------+----------+--------------------+\n",
      "|       1| *San Antonio*|2003-07-24 21:45:00|   78015|2136875667| *store1@retail.com*|\n",
      "|       2| @San Antonio!|2005-10-27 07:01:00|   78201|2135167236| @store2@retail.com!|\n",
      "|       3| #San Antonio#|2007-02-01 16:59:00|   78112|2123501192|#store3@walmart.com#|\n",
      "|       4|     &Houston&|2004-07-17 00:28:00|   77001|3129778178|&store4@walmart.com&|\n",
      "|       5|     !Houston!|2009-04-23 01:08:00|   77002|7136191883|  !store5@store.com!|\n",
      "|       6| $Los Angeles$|2006-08-10 19:42:00|   90001|2127216342|  $store6@store.com$|\n",
      "|       7|     %Phoenix%|2007-10-16 08:02:00|   60601|7138018755|  %store7@store.com%|\n",
      "|       8|   #San Diego#|2002-03-10 05:40:00|   94023|2125445446| #store8@retail.com#|\n",
      "|       9|    @New York@|2007-07-24 04:31:00|   10001|3122242101|  @store9@store.com@|\n",
      "|      10|!Philadelphia!|2007-05-21 13:40:00|   19019|2135196422|!store10@walmart....|\n",
      "+--------+--------------+-------------------+--------+----------+--------------------+\n",
      "only showing top 10 rows\n"
     ]
    }
   ],
   "source": [
    "df.show(10)"
   ]
  },
  {
   "cell_type": "markdown",
   "id": "aeabb417",
   "metadata": {},
   "source": [
    "## Valores faltantes"
   ]
  },
  {
   "cell_type": "markdown",
   "id": "7d61b58d",
   "metadata": {},
   "source": [
    "Para la consulta de datos faltantes, tenemos dos opciones:\n",
    "1. utilizar la acción `count`, pero esto se ejecutaria en cada columna, lo que seria costoso.\n",
    "2. Verifica en cada columna si el valor es nulo, asignando 1 si así lo es, y cero si no, posteriormente suma los 1"
   ]
  },
  {
   "cell_type": "code",
   "execution_count": 7,
   "id": "d4588dc5",
   "metadata": {},
   "outputs": [
    {
     "name": "stdout",
     "output_type": "stream",
     "text": [
      "{'Store_ID': 0, 'City': 0, 'Open_Date': 0, 'Zip_Code': 0, 'Phone': 0, 'Email': 0}\n"
     ]
    }
   ],
   "source": [
    "# Contar valores nulos por columna\n",
    "nulos = {col:df.filter(df[col].isNull()).count() for col in df.columns}\n",
    "print(nulos)"
   ]
  },
  {
   "cell_type": "code",
   "execution_count": 8,
   "id": "1c35be87",
   "metadata": {},
   "outputs": [
    {
     "name": "stdout",
     "output_type": "stream",
     "text": [
      "+--------+----+---------+--------+-----+-----+\n",
      "|Store_ID|City|Open_Date|Zip_Code|Phone|Email|\n",
      "+--------+----+---------+--------+-----+-----+\n",
      "|       0|   0|        0|       0|    0|    0|\n",
      "+--------+----+---------+--------+-----+-----+\n",
      "\n"
     ]
    }
   ],
   "source": [
    "from pyspark.sql.functions import col, sum, when\n",
    "\n",
    "df.select([ sum(when(col(columna).isNull(),1).otherwise(0)).alias(columna) for columna in df.columns]).show()"
   ]
  },
  {
   "cell_type": "markdown",
   "id": "c87f6765",
   "metadata": {},
   "source": [
    "## Eliminar caracteres especiales"
   ]
  },
  {
   "cell_type": "markdown",
   "id": "22924ce7",
   "metadata": {},
   "source": [
    "En este caso, vamos a eliminar los caracteres especiales de los nombres de las ciudades y de los correos electrónicos.\n",
    "\n",
    "- `[^a-zA-Z]` elimina todo menos letras\n",
    "- `[^a-zA-Z ]` elimina todo menos letras y espacios\n",
    "- `trim()` Elimina espacios al inicio y al final de un texto"
   ]
  },
  {
   "cell_type": "code",
   "execution_count": 9,
   "id": "d57a2118",
   "metadata": {},
   "outputs": [
    {
     "name": "stdout",
     "output_type": "stream",
     "text": [
      "+--------+-----------+-------------------+--------+----------+-------------------+\n",
      "|Store_ID|       City|          Open_Date|Zip_Code|     Phone|              Email|\n",
      "+--------+-----------+-------------------+--------+----------+-------------------+\n",
      "|       1|San Antonio|2003-07-24 21:45:00|   78015|2136875667|*store1@retail.com*|\n",
      "|       2|San Antonio|2005-10-27 07:01:00|   78201|2135167236|@store2@retail.com!|\n",
      "+--------+-----------+-------------------+--------+----------+-------------------+\n",
      "only showing top 2 rows\n"
     ]
    }
   ],
   "source": [
    "from pyspark.sql.functions import regexp_replace, col, trim\n",
    "# Eliminar caracteres especiales de la columna City\n",
    "df = df.withColumn(\n",
    "    'City',\n",
    "    trim(regexp_replace(col('City'),\"[^a-zA-Z ]\",\"\"))\n",
    "                   )\n",
    "df.show(2)"
   ]
  },
  {
   "cell_type": "markdown",
   "id": "a1d89cf9",
   "metadata": {},
   "source": [
    "Ahora limpiemos los correos electrónicos.\n",
    "- lower(...) Convierte todo el correo electrónico a minuscula\n",
    "- trim (...) Elimina espacios al inicio y final\n",
    "- Patrón regex: `r'^[*#&!$%@]+|[*#&!$%@]+$'`  \n",
    "    - ^[*#&!$%@]+ : Busca uno o más caracteres especiales (*, #, &, !, $, %, @) al inicio del string (^)\n",
    "\n",
    "    - | : Operador OR (o)\n",
    "\n",
    "    - [*#&!$%@]+$ : Busca uno o más caracteres especiales al final del string ($)\n",
    "\n",
    "- Reemplazo: Sustituye los caracteres encontrados por cadena vacía ('')"
   ]
  },
  {
   "cell_type": "code",
   "execution_count": 10,
   "id": "b88194b8",
   "metadata": {},
   "outputs": [
    {
     "name": "stdout",
     "output_type": "stream",
     "text": [
      "+--------+------------+-------------------+--------+----------+-------------------+\n",
      "|Store_ID|        City|          Open_Date|Zip_Code|     Phone|              Email|\n",
      "+--------+------------+-------------------+--------+----------+-------------------+\n",
      "|       1| San Antonio|2003-07-24 21:45:00|   78015|2136875667|  store1@retail.com|\n",
      "|       2| San Antonio|2005-10-27 07:01:00|   78201|2135167236|  store2@retail.com|\n",
      "|       3| San Antonio|2007-02-01 16:59:00|   78112|2123501192| store3@walmart.com|\n",
      "|       4|     Houston|2004-07-17 00:28:00|   77001|3129778178| store4@walmart.com|\n",
      "|       5|     Houston|2009-04-23 01:08:00|   77002|7136191883|   store5@store.com|\n",
      "|       6| Los Angeles|2006-08-10 19:42:00|   90001|2127216342|   store6@store.com|\n",
      "|       7|     Phoenix|2007-10-16 08:02:00|   60601|7138018755|   store7@store.com|\n",
      "|       8|   San Diego|2002-03-10 05:40:00|   94023|2125445446|  store8@retail.com|\n",
      "|       9|    New York|2007-07-24 04:31:00|   10001|3122242101|   store9@store.com|\n",
      "|      10|Philadelphia|2007-05-21 13:40:00|   19019|2135196422|store10@walmart.com|\n",
      "+--------+------------+-------------------+--------+----------+-------------------+\n",
      "only showing top 10 rows\n"
     ]
    }
   ],
   "source": [
    "# Eliminemos caracteres especiales de correo electrónico\n",
    "from pyspark.sql.functions import lower\n",
    "df = df.withColumn(\n",
    "    \"Email\",\n",
    "    lower(trim(regexp_replace(col(\"Email\"), r'^[*#&!$%@]+|[*#&!$%@]+$', '')))\n",
    ")\n",
    "df.show(10)"
   ]
  },
  {
   "cell_type": "markdown",
   "id": "2518a9f9",
   "metadata": {},
   "source": [
    "# Broadcast join"
   ]
  },
  {
   "cell_type": "markdown",
   "id": "a43ff89c",
   "metadata": {},
   "source": [
    "Finalmente, uniremos dos dataframes utilizando el método `broadcast`, ya que uno de ellos es significativamente más pequeño. La unión se realizará con el tipo `left`, lo que nos permitirá conservar todos los registros del primer dataframe y solo los coincidentes del segundo."
   ]
  },
  {
   "cell_type": "code",
   "execution_count": 11,
   "id": "1549e22c",
   "metadata": {},
   "outputs": [
    {
     "name": "stdout",
     "output_type": "stream",
     "text": [
      "+-----+----------+------------+------------+------------------+------------------+------------------+------------------+--------------+\n",
      "|Store|      Date|Weekly_Sales|Holiday_Flag|       Temperature|        Fuel_Price|               CPI|      Unemployment|Holiday_Events|\n",
      "+-----+----------+------------+------------+------------------+------------------+------------------+------------------+--------------+\n",
      "|    1|05-02-2010|    16436909|           0|42.310000000000002|2.5720000000000001|211.09635840000001|8.1059999999999999|     No aplica|\n",
      "|    1|12-02-2010|   164195744|           1|38.509999999999998|             2.548|        211.242176|8.1059999999999999|    Super Bowl|\n",
      "|    1|19-02-2010|   161196816|           0|             39.93|2.5139999999999998|211.28913919999999|8.1059999999999999|     No aplica|\n",
      "|    1|26-02-2010|   140972752|           0|46.630000000000003|2.5609999999999999|211.31964160000001|8.1059999999999999|     No aplica|\n",
      "|    1|05-03-2010|   155480672|           0|              46.5|             2.625|        211.350144|8.1059999999999999|     No aplica|\n",
      "+-----+----------+------------+------------+------------------+------------------+------------------+------------------+--------------+\n",
      "only showing top 5 rows\n"
     ]
    }
   ],
   "source": [
    "df1 = spark.read.csv(file_path('TFM_Table_Walmart_Sales.csv'),sep=';',header=True)\n",
    "df1.show(5)"
   ]
  },
  {
   "cell_type": "markdown",
   "id": "5a50f603",
   "metadata": {},
   "source": [
    "Veamos las dimensiones del dataframe"
   ]
  },
  {
   "cell_type": "code",
   "execution_count": 12,
   "id": "8dc61729",
   "metadata": {},
   "outputs": [
    {
     "name": "stdout",
     "output_type": "stream",
     "text": [
      "(6435, 9)\n",
      "(45, 6)\n"
     ]
    }
   ],
   "source": [
    "print((df1.count(), len(df1.columns)))\n",
    "print((df.count(), len(df.columns)))"
   ]
  },
  {
   "cell_type": "markdown",
   "id": "eeee6218",
   "metadata": {},
   "source": [
    "Ahora, realicemos el join, en este caso :\n",
    "- broadcast(df): ndica a Spark que df es un DataFrame pequeño, así que lo puede enviar (broadcast) a todas las particiones del clúster para optimizar la unión. Esto evita shuffles costosos al unir un DataFrame grande con uno pequeño."
   ]
  },
  {
   "cell_type": "code",
   "execution_count": 13,
   "id": "6fe36059",
   "metadata": {},
   "outputs": [
    {
     "name": "stdout",
     "output_type": "stream",
     "text": [
      "+-----+----------+------------+------------+------------------+------------------+------------------+------------------+--------------+-----------+\n",
      "|Store|      Date|Weekly_Sales|Holiday_Flag|       Temperature|        Fuel_Price|               CPI|      Unemployment|Holiday_Events|       City|\n",
      "+-----+----------+------------+------------+------------------+------------------+------------------+------------------+--------------+-----------+\n",
      "|    1|05-02-2010|    16436909|           0|42.310000000000002|2.5720000000000001|211.09635840000001|8.1059999999999999|     No aplica|San Antonio|\n",
      "|    1|12-02-2010|   164195744|           1|38.509999999999998|             2.548|        211.242176|8.1059999999999999|    Super Bowl|San Antonio|\n",
      "|    1|19-02-2010|   161196816|           0|             39.93|2.5139999999999998|211.28913919999999|8.1059999999999999|     No aplica|San Antonio|\n",
      "|    1|26-02-2010|   140972752|           0|46.630000000000003|2.5609999999999999|211.31964160000001|8.1059999999999999|     No aplica|San Antonio|\n",
      "|    1|05-03-2010|   155480672|           0|              46.5|             2.625|        211.350144|8.1059999999999999|     No aplica|San Antonio|\n",
      "|    1|12-03-2010|   143954160|           0|57.789999999999999|2.6669999999999998|211.38064639999999|8.1059999999999999|     No aplica|San Antonio|\n",
      "|    1|19-03-2010|   147251584|           0|54.579999999999998|2.7200000000000002|        211.215632|8.1059999999999999|     No aplica|San Antonio|\n",
      "|    1|26-03-2010|   140442992|           0|51.450000000000003|2.7320000000000002|211.01804799999999|8.1059999999999999|     No aplica|San Antonio|\n",
      "|    1|02-04-2010|   159496832|           0|62.270000000000003|2.7189999999999999|210.82045439999999|7.8079999999999998|     No aplica|San Antonio|\n",
      "|    1|09-04-2010|   154541856|           0|65.859999999999999|              2.77|210.62286080000001|7.8079999999999998|     No aplica|San Antonio|\n",
      "|    1|16-04-2010|   146605824|           0|66.319999999999993|2.8079999999999998|210.48869999999999|7.8079999999999998|     No aplica|San Antonio|\n",
      "|    1|23-04-2010|   139125616|           0|64.840000000000003|2.7949999999999999|210.43911679999999|7.8079999999999998|     No aplica|San Antonio|\n",
      "|    1|30-04-2010|   142510064|           0|67.409999999999997|2.7799999999999998|210.38954240000001|7.8079999999999998|     No aplica|San Antonio|\n",
      "|    1|07-05-2010|   160395520|           0|72.549999999999997|             2.835|        210.339968|7.8079999999999998|     No aplica|San Antonio|\n",
      "|    1|14-05-2010|    14942515|           0|74.780000000000001|2.8540000000000001|210.33742079999999|7.8079999999999998|     No aplica|San Antonio|\n",
      "+-----+----------+------------+------------+------------------+------------------+------------------+------------------+--------------+-----------+\n",
      "only showing top 15 rows\n"
     ]
    }
   ],
   "source": [
    "from pyspark.sql.functions import broadcast\n",
    "\n",
    "# Join cuando las columnas tienen nombres diferentes\n",
    "df_selected = df.select(\"Store_ID\", \"City\")  # selecciona todas las que\n",
    "df1 = df1.join(broadcast(df_selected), df1[\"Store\"] == df_selected[\"Store_ID\"], \"left\")\n",
    "df1 = df1.drop(\"Store_ID\") \n",
    "df1.show(15)"
   ]
  },
  {
   "cell_type": "markdown",
   "id": "d91cf09b",
   "metadata": {},
   "source": [
    "# Graficar"
   ]
  },
  {
   "cell_type": "markdown",
   "id": "673bda19",
   "metadata": {},
   "source": [
    "Vamos a graficar una serie temporal, para esto debemos traer los datos a la memoria, por lo cual usaremos pandas y plotly"
   ]
  },
  {
   "cell_type": "code",
   "execution_count": 14,
   "id": "fa11ef03",
   "metadata": {},
   "outputs": [],
   "source": [
    "import pandas as pd\n",
    "# Seleccionar columnas específicas\n",
    "df_selected = df1.select('Store', 'Date', 'Temperature')\n",
    "df_selected = df_selected.filter(df_selected['Store'] == '1')\n",
    "\n"
   ]
  },
  {
   "cell_type": "code",
   "execution_count": 15,
   "id": "8fef2dbf",
   "metadata": {},
   "outputs": [
    {
     "name": "stdout",
     "output_type": "stream",
     "text": [
      "<class 'pandas.core.frame.DataFrame'>\n",
      "RangeIndex: 143 entries, 0 to 142\n",
      "Data columns (total 3 columns):\n",
      " #   Column       Non-Null Count  Dtype \n",
      "---  ------       --------------  ----- \n",
      " 0   Store        143 non-null    object\n",
      " 1   Date         143 non-null    object\n",
      " 2   Temperature  143 non-null    object\n",
      "dtypes: object(3)\n",
      "memory usage: 3.5+ KB\n"
     ]
    }
   ],
   "source": [
    "df_pd = df_selected.toPandas()\n",
    "df_pd.info()"
   ]
  },
  {
   "cell_type": "code",
   "execution_count": 17,
   "id": "d61da4e9",
   "metadata": {},
   "outputs": [
    {
     "data": {
      "text/html": [
       "<div>\n",
       "<style scoped>\n",
       "    .dataframe tbody tr th:only-of-type {\n",
       "        vertical-align: middle;\n",
       "    }\n",
       "\n",
       "    .dataframe tbody tr th {\n",
       "        vertical-align: top;\n",
       "    }\n",
       "\n",
       "    .dataframe thead th {\n",
       "        text-align: right;\n",
       "    }\n",
       "</style>\n",
       "<table border=\"1\" class=\"dataframe\">\n",
       "  <thead>\n",
       "    <tr style=\"text-align: right;\">\n",
       "      <th></th>\n",
       "      <th>Store</th>\n",
       "      <th>Date</th>\n",
       "      <th>Temperature</th>\n",
       "    </tr>\n",
       "  </thead>\n",
       "  <tbody>\n",
       "    <tr>\n",
       "      <th>0</th>\n",
       "      <td>1</td>\n",
       "      <td>2010-02-05</td>\n",
       "      <td>42.310000000000002</td>\n",
       "    </tr>\n",
       "    <tr>\n",
       "      <th>1</th>\n",
       "      <td>1</td>\n",
       "      <td>2010-02-12</td>\n",
       "      <td>38.509999999999998</td>\n",
       "    </tr>\n",
       "    <tr>\n",
       "      <th>2</th>\n",
       "      <td>1</td>\n",
       "      <td>2010-02-19</td>\n",
       "      <td>39.93</td>\n",
       "    </tr>\n",
       "    <tr>\n",
       "      <th>3</th>\n",
       "      <td>1</td>\n",
       "      <td>2010-02-26</td>\n",
       "      <td>46.630000000000003</td>\n",
       "    </tr>\n",
       "    <tr>\n",
       "      <th>4</th>\n",
       "      <td>1</td>\n",
       "      <td>2010-03-05</td>\n",
       "      <td>46.5</td>\n",
       "    </tr>\n",
       "  </tbody>\n",
       "</table>\n",
       "</div>"
      ],
      "text/plain": [
       "  Store       Date         Temperature\n",
       "0     1 2010-02-05  42.310000000000002\n",
       "1     1 2010-02-12  38.509999999999998\n",
       "2     1 2010-02-19               39.93\n",
       "3     1 2010-02-26  46.630000000000003\n",
       "4     1 2010-03-05                46.5"
      ]
     },
     "execution_count": 17,
     "metadata": {},
     "output_type": "execute_result"
    }
   ],
   "source": [
    "df_pd.head()"
   ]
  },
  {
   "cell_type": "code",
   "execution_count": 18,
   "id": "344c064b",
   "metadata": {},
   "outputs": [
    {
     "data": {
      "application/vnd.plotly.v1+json": {
       "config": {
        "plotlyServerURL": "https://plot.ly"
       },
       "data": [
        {
         "line": {
          "color": "blue",
          "dash": "dash",
          "width": 2
         },
         "mode": "lines",
         "name": "Temperature",
         "type": "scatter",
         "x": [
          "2010-02-05T00:00:00.000000000",
          "2010-02-12T00:00:00.000000000",
          "2010-02-19T00:00:00.000000000",
          "2010-02-26T00:00:00.000000000",
          "2010-03-05T00:00:00.000000000",
          "2010-03-12T00:00:00.000000000",
          "2010-03-19T00:00:00.000000000",
          "2010-03-26T00:00:00.000000000",
          "2010-04-02T00:00:00.000000000",
          "2010-04-09T00:00:00.000000000",
          "2010-04-16T00:00:00.000000000",
          "2010-04-23T00:00:00.000000000",
          "2010-04-30T00:00:00.000000000",
          "2010-05-07T00:00:00.000000000",
          "2010-05-14T00:00:00.000000000",
          "2010-05-21T00:00:00.000000000",
          "2010-05-28T00:00:00.000000000",
          "2010-06-04T00:00:00.000000000",
          "2010-06-11T00:00:00.000000000",
          "2010-06-18T00:00:00.000000000",
          "2010-06-25T00:00:00.000000000",
          "2010-07-02T00:00:00.000000000",
          "2010-07-09T00:00:00.000000000",
          "2010-07-16T00:00:00.000000000",
          "2010-07-23T00:00:00.000000000",
          "2010-07-30T00:00:00.000000000",
          "2010-08-06T00:00:00.000000000",
          "2010-08-13T00:00:00.000000000",
          "2010-08-20T00:00:00.000000000",
          "2010-08-27T00:00:00.000000000",
          "2010-09-03T00:00:00.000000000",
          "2010-09-10T00:00:00.000000000",
          "2010-09-17T00:00:00.000000000",
          "2010-09-24T00:00:00.000000000",
          "2010-10-01T00:00:00.000000000",
          "2010-10-08T00:00:00.000000000",
          "2010-10-15T00:00:00.000000000",
          "2010-10-22T00:00:00.000000000",
          "2010-10-29T00:00:00.000000000",
          "2010-11-05T00:00:00.000000000",
          "2010-11-12T00:00:00.000000000",
          "2010-11-19T00:00:00.000000000",
          "2010-11-26T00:00:00.000000000",
          "2010-12-03T00:00:00.000000000",
          "2010-12-10T00:00:00.000000000",
          "2010-12-17T00:00:00.000000000",
          "2010-12-24T00:00:00.000000000",
          "2010-12-31T00:00:00.000000000",
          "2011-01-07T00:00:00.000000000",
          "2011-01-14T00:00:00.000000000",
          "2011-01-21T00:00:00.000000000",
          "2011-01-28T00:00:00.000000000",
          "2011-02-04T00:00:00.000000000",
          "2011-02-11T00:00:00.000000000",
          "2011-02-18T00:00:00.000000000",
          "2011-02-25T00:00:00.000000000",
          "2011-03-04T00:00:00.000000000",
          "2011-03-11T00:00:00.000000000",
          "2011-03-18T00:00:00.000000000",
          "2011-03-25T00:00:00.000000000",
          "2011-04-01T00:00:00.000000000",
          "2011-04-08T00:00:00.000000000",
          "2011-04-15T00:00:00.000000000",
          "2011-04-22T00:00:00.000000000",
          "2011-04-29T00:00:00.000000000",
          "2011-05-06T00:00:00.000000000",
          "2011-05-13T00:00:00.000000000",
          "2011-05-20T00:00:00.000000000",
          "2011-05-27T00:00:00.000000000",
          "2011-06-03T00:00:00.000000000",
          "2011-06-10T00:00:00.000000000",
          "2011-06-17T00:00:00.000000000",
          "2011-06-24T00:00:00.000000000",
          "2011-07-01T00:00:00.000000000",
          "2011-07-08T00:00:00.000000000",
          "2011-07-15T00:00:00.000000000",
          "2011-07-22T00:00:00.000000000",
          "2011-07-29T00:00:00.000000000",
          "2011-08-05T00:00:00.000000000",
          "2011-08-12T00:00:00.000000000",
          "2011-08-19T00:00:00.000000000",
          "2011-08-26T00:00:00.000000000",
          "2011-09-02T00:00:00.000000000",
          "2011-09-09T00:00:00.000000000",
          "2011-09-16T00:00:00.000000000",
          "2011-09-23T00:00:00.000000000",
          "2011-09-30T00:00:00.000000000",
          "2011-10-07T00:00:00.000000000",
          "2011-10-14T00:00:00.000000000",
          "2011-10-21T00:00:00.000000000",
          "2011-10-28T00:00:00.000000000",
          "2011-11-04T00:00:00.000000000",
          "2011-11-11T00:00:00.000000000",
          "2011-11-18T00:00:00.000000000",
          "2011-11-25T00:00:00.000000000",
          "2011-12-02T00:00:00.000000000",
          "2011-12-09T00:00:00.000000000",
          "2011-12-16T00:00:00.000000000",
          "2011-12-23T00:00:00.000000000",
          "2011-12-30T00:00:00.000000000",
          "2012-01-06T00:00:00.000000000",
          "2012-01-13T00:00:00.000000000",
          "2012-01-20T00:00:00.000000000",
          "2012-01-27T00:00:00.000000000",
          "2012-02-03T00:00:00.000000000",
          "2012-02-10T00:00:00.000000000",
          "2012-02-17T00:00:00.000000000",
          "2012-02-24T00:00:00.000000000",
          "2012-03-02T00:00:00.000000000",
          "2012-03-09T00:00:00.000000000",
          "2012-03-16T00:00:00.000000000",
          "2012-03-23T00:00:00.000000000",
          "2012-03-30T00:00:00.000000000",
          "2012-04-06T00:00:00.000000000",
          "2012-04-13T00:00:00.000000000",
          "2012-04-20T00:00:00.000000000",
          "2012-04-27T00:00:00.000000000",
          "2012-05-04T00:00:00.000000000",
          "2012-05-11T00:00:00.000000000",
          "2012-05-18T00:00:00.000000000",
          "2012-05-25T00:00:00.000000000",
          "2012-06-01T00:00:00.000000000",
          "2012-06-08T00:00:00.000000000",
          "2012-06-15T00:00:00.000000000",
          "2012-06-22T00:00:00.000000000",
          "2012-06-29T00:00:00.000000000",
          "2012-07-06T00:00:00.000000000",
          "2012-07-13T00:00:00.000000000",
          "2012-07-20T00:00:00.000000000",
          "2012-07-27T00:00:00.000000000",
          "2012-08-03T00:00:00.000000000",
          "2012-08-10T00:00:00.000000000",
          "2012-08-17T00:00:00.000000000",
          "2012-08-24T00:00:00.000000000",
          "2012-08-31T00:00:00.000000000",
          "2012-09-07T00:00:00.000000000",
          "2012-09-14T00:00:00.000000000",
          "2012-09-21T00:00:00.000000000",
          "2012-09-28T00:00:00.000000000",
          "2012-10-05T00:00:00.000000000",
          "2012-10-12T00:00:00.000000000",
          "2012-10-19T00:00:00.000000000",
          "2012-10-26T00:00:00.000000000"
         ],
         "y": {
          "bdata": "SOF6FK4nRUDhehSuR0FDQNejcD0K90NAcT0K16NQR0AAAAAAAEBHQIXrUbge5UxACtejcD1KS0CamZmZmblJQMP1KFyPIk9A16NwPQp3UEAUrkfhepRQQPYoXI/CNVBACtejcD3aUEAzMzMzMyNSQFK4HoXrsVJAXI/C9SgcU0Bcj8L1KBxUQFyPwvUoLFRA7FG4HoUbVEDXo3A9CgdVQPYoXI/CFVVACtejcD06VEAfhetRuB5UQJqZmZmZyVRA16NwPQrXVED2KFyPwnVUQArXo3A9ylVAAAAAAADAVUCamZmZmalVQK5H4XoUTlVAPQrXo3BNVEBcj8L1KKxTQNejcD0Kh1RAXI/C9Sg8VEApXI/C9fhRQNejcD0K909A7FG4HoXLUEDXo3A9CndRQClcj8L1aFFAH4XrUbheTUCuR+F6FM5NQBSuR+F6tElA4XoUrkchUEDD9Shcj6JIQArXo3A9KkdA7FG4HoXrSEAK16NwPSpKQNejcD0KN0hAw/UoXI8iSEAzMzMzM7NBQIXrUbgeBUZACtejcD3qRUDD9ShcjyJFQFK4HoXrMUJArkfhehSuTEAzMzMzM3NPQArXo3A9yk1ASOF6FK7HSkDhehSuR2FPQK5H4XoUflFA9ihcj8KVTUD2KFyPwvVQQOF6FK5H0VFAj8L1KFw/UkBSuB6F6wFSQNejcD0KJ1BAKVyPwvXoUkC4HoXrUehQQK5H4XoUblNAAAAAAADAVEC4HoXrUchUQArXo3A9mlVAhetRuB7lVEAzMzMzM2NVQIXrUbgedVVAw/UoXI8iVkDhehSuR3FVQIXrUbgetVVAmpmZmZnpVkBxPQrXo7BWQFyPwvUofFZAPQrXo3D9VUCF61G4HvVVQAAAAAAAAFNAXI/C9Sj8U0AzMzMzM/NSQFyPwvUo7FNApHA9CtdTUUCPwvUoXO9RQHsUrkfh2k9AFK5H4XqkUEA9CtejcH1LQK5H4XoUjk1AAAAAAAAgT0BSuB6F6xFOQBSuR+F6dEhA16NwPQr3RUBxPQrXo9BJQHsUrkfh+kdAZmZmZmZGRkDhehSuR4FIQKRwPQrXQ0hArkfhehQOS0DhehSuRyFLQGZmZmZmRkxAw/UoXI8CSEApXI/C9ahGQAAAAAAAoExAexSuR+F6TkDhehSuR2FNQI/C9ShcL1BA7FG4HoV7UEDXo3A9CudQQOxRuB6Fm1FAFK5H4XpEUUBxPQrXo7BQQB+F61G4zlBAMzMzMzPjUkDhehSuR3FSQIXrUbgelVFArkfhehROU0DNzMzMzHxTQDMzMzMzk1NAZmZmZmbWU0ApXI/C9ZhTQLgehetROFVAFK5H4XpkVEBI4XoUrkdTQHsUrkfhGlRACtejcD2qVEDXo3A9CodVQDMzMzMzQ1VAZmZmZmY2VUAK16NwPWpTQI/C9ShcH1RAPQrXo3D9VECuR+F6FL5SQEjhehSud1FAhetRuB4FU0AzMzMzMyNRQB+F61G4fk9ArkfhehT+UEAK16NwPUpRQA==",
          "dtype": "f8"
         }
        }
       ],
       "layout": {
        "font": {
         "color": "black",
         "family": "Arial",
         "size": 12
        },
        "height": 400,
        "hovermode": "x unified",
        "margin": {
         "b": 50,
         "l": 50,
         "r": 50,
         "t": 80
        },
        "paper_bgcolor": "white",
        "plot_bgcolor": "white",
        "template": {
         "data": {
          "bar": [
           {
            "error_x": {
             "color": "#2a3f5f"
            },
            "error_y": {
             "color": "#2a3f5f"
            },
            "marker": {
             "line": {
              "color": "#E5ECF6",
              "width": 0.5
             },
             "pattern": {
              "fillmode": "overlay",
              "size": 10,
              "solidity": 0.2
             }
            },
            "type": "bar"
           }
          ],
          "barpolar": [
           {
            "marker": {
             "line": {
              "color": "#E5ECF6",
              "width": 0.5
             },
             "pattern": {
              "fillmode": "overlay",
              "size": 10,
              "solidity": 0.2
             }
            },
            "type": "barpolar"
           }
          ],
          "carpet": [
           {
            "aaxis": {
             "endlinecolor": "#2a3f5f",
             "gridcolor": "white",
             "linecolor": "white",
             "minorgridcolor": "white",
             "startlinecolor": "#2a3f5f"
            },
            "baxis": {
             "endlinecolor": "#2a3f5f",
             "gridcolor": "white",
             "linecolor": "white",
             "minorgridcolor": "white",
             "startlinecolor": "#2a3f5f"
            },
            "type": "carpet"
           }
          ],
          "choropleth": [
           {
            "colorbar": {
             "outlinewidth": 0,
             "ticks": ""
            },
            "type": "choropleth"
           }
          ],
          "contour": [
           {
            "colorbar": {
             "outlinewidth": 0,
             "ticks": ""
            },
            "colorscale": [
             [
              0,
              "#0d0887"
             ],
             [
              0.1111111111111111,
              "#46039f"
             ],
             [
              0.2222222222222222,
              "#7201a8"
             ],
             [
              0.3333333333333333,
              "#9c179e"
             ],
             [
              0.4444444444444444,
              "#bd3786"
             ],
             [
              0.5555555555555556,
              "#d8576b"
             ],
             [
              0.6666666666666666,
              "#ed7953"
             ],
             [
              0.7777777777777778,
              "#fb9f3a"
             ],
             [
              0.8888888888888888,
              "#fdca26"
             ],
             [
              1,
              "#f0f921"
             ]
            ],
            "type": "contour"
           }
          ],
          "contourcarpet": [
           {
            "colorbar": {
             "outlinewidth": 0,
             "ticks": ""
            },
            "type": "contourcarpet"
           }
          ],
          "heatmap": [
           {
            "colorbar": {
             "outlinewidth": 0,
             "ticks": ""
            },
            "colorscale": [
             [
              0,
              "#0d0887"
             ],
             [
              0.1111111111111111,
              "#46039f"
             ],
             [
              0.2222222222222222,
              "#7201a8"
             ],
             [
              0.3333333333333333,
              "#9c179e"
             ],
             [
              0.4444444444444444,
              "#bd3786"
             ],
             [
              0.5555555555555556,
              "#d8576b"
             ],
             [
              0.6666666666666666,
              "#ed7953"
             ],
             [
              0.7777777777777778,
              "#fb9f3a"
             ],
             [
              0.8888888888888888,
              "#fdca26"
             ],
             [
              1,
              "#f0f921"
             ]
            ],
            "type": "heatmap"
           }
          ],
          "histogram": [
           {
            "marker": {
             "pattern": {
              "fillmode": "overlay",
              "size": 10,
              "solidity": 0.2
             }
            },
            "type": "histogram"
           }
          ],
          "histogram2d": [
           {
            "colorbar": {
             "outlinewidth": 0,
             "ticks": ""
            },
            "colorscale": [
             [
              0,
              "#0d0887"
             ],
             [
              0.1111111111111111,
              "#46039f"
             ],
             [
              0.2222222222222222,
              "#7201a8"
             ],
             [
              0.3333333333333333,
              "#9c179e"
             ],
             [
              0.4444444444444444,
              "#bd3786"
             ],
             [
              0.5555555555555556,
              "#d8576b"
             ],
             [
              0.6666666666666666,
              "#ed7953"
             ],
             [
              0.7777777777777778,
              "#fb9f3a"
             ],
             [
              0.8888888888888888,
              "#fdca26"
             ],
             [
              1,
              "#f0f921"
             ]
            ],
            "type": "histogram2d"
           }
          ],
          "histogram2dcontour": [
           {
            "colorbar": {
             "outlinewidth": 0,
             "ticks": ""
            },
            "colorscale": [
             [
              0,
              "#0d0887"
             ],
             [
              0.1111111111111111,
              "#46039f"
             ],
             [
              0.2222222222222222,
              "#7201a8"
             ],
             [
              0.3333333333333333,
              "#9c179e"
             ],
             [
              0.4444444444444444,
              "#bd3786"
             ],
             [
              0.5555555555555556,
              "#d8576b"
             ],
             [
              0.6666666666666666,
              "#ed7953"
             ],
             [
              0.7777777777777778,
              "#fb9f3a"
             ],
             [
              0.8888888888888888,
              "#fdca26"
             ],
             [
              1,
              "#f0f921"
             ]
            ],
            "type": "histogram2dcontour"
           }
          ],
          "mesh3d": [
           {
            "colorbar": {
             "outlinewidth": 0,
             "ticks": ""
            },
            "type": "mesh3d"
           }
          ],
          "parcoords": [
           {
            "line": {
             "colorbar": {
              "outlinewidth": 0,
              "ticks": ""
             }
            },
            "type": "parcoords"
           }
          ],
          "pie": [
           {
            "automargin": true,
            "type": "pie"
           }
          ],
          "scatter": [
           {
            "fillpattern": {
             "fillmode": "overlay",
             "size": 10,
             "solidity": 0.2
            },
            "type": "scatter"
           }
          ],
          "scatter3d": [
           {
            "line": {
             "colorbar": {
              "outlinewidth": 0,
              "ticks": ""
             }
            },
            "marker": {
             "colorbar": {
              "outlinewidth": 0,
              "ticks": ""
             }
            },
            "type": "scatter3d"
           }
          ],
          "scattercarpet": [
           {
            "marker": {
             "colorbar": {
              "outlinewidth": 0,
              "ticks": ""
             }
            },
            "type": "scattercarpet"
           }
          ],
          "scattergeo": [
           {
            "marker": {
             "colorbar": {
              "outlinewidth": 0,
              "ticks": ""
             }
            },
            "type": "scattergeo"
           }
          ],
          "scattergl": [
           {
            "marker": {
             "colorbar": {
              "outlinewidth": 0,
              "ticks": ""
             }
            },
            "type": "scattergl"
           }
          ],
          "scattermap": [
           {
            "marker": {
             "colorbar": {
              "outlinewidth": 0,
              "ticks": ""
             }
            },
            "type": "scattermap"
           }
          ],
          "scattermapbox": [
           {
            "marker": {
             "colorbar": {
              "outlinewidth": 0,
              "ticks": ""
             }
            },
            "type": "scattermapbox"
           }
          ],
          "scatterpolar": [
           {
            "marker": {
             "colorbar": {
              "outlinewidth": 0,
              "ticks": ""
             }
            },
            "type": "scatterpolar"
           }
          ],
          "scatterpolargl": [
           {
            "marker": {
             "colorbar": {
              "outlinewidth": 0,
              "ticks": ""
             }
            },
            "type": "scatterpolargl"
           }
          ],
          "scatterternary": [
           {
            "marker": {
             "colorbar": {
              "outlinewidth": 0,
              "ticks": ""
             }
            },
            "type": "scatterternary"
           }
          ],
          "surface": [
           {
            "colorbar": {
             "outlinewidth": 0,
             "ticks": ""
            },
            "colorscale": [
             [
              0,
              "#0d0887"
             ],
             [
              0.1111111111111111,
              "#46039f"
             ],
             [
              0.2222222222222222,
              "#7201a8"
             ],
             [
              0.3333333333333333,
              "#9c179e"
             ],
             [
              0.4444444444444444,
              "#bd3786"
             ],
             [
              0.5555555555555556,
              "#d8576b"
             ],
             [
              0.6666666666666666,
              "#ed7953"
             ],
             [
              0.7777777777777778,
              "#fb9f3a"
             ],
             [
              0.8888888888888888,
              "#fdca26"
             ],
             [
              1,
              "#f0f921"
             ]
            ],
            "type": "surface"
           }
          ],
          "table": [
           {
            "cells": {
             "fill": {
              "color": "#EBF0F8"
             },
             "line": {
              "color": "white"
             }
            },
            "header": {
             "fill": {
              "color": "#C8D4E3"
             },
             "line": {
              "color": "white"
             }
            },
            "type": "table"
           }
          ]
         },
         "layout": {
          "annotationdefaults": {
           "arrowcolor": "#2a3f5f",
           "arrowhead": 0,
           "arrowwidth": 1
          },
          "autotypenumbers": "strict",
          "coloraxis": {
           "colorbar": {
            "outlinewidth": 0,
            "ticks": ""
           }
          },
          "colorscale": {
           "diverging": [
            [
             0,
             "#8e0152"
            ],
            [
             0.1,
             "#c51b7d"
            ],
            [
             0.2,
             "#de77ae"
            ],
            [
             0.3,
             "#f1b6da"
            ],
            [
             0.4,
             "#fde0ef"
            ],
            [
             0.5,
             "#f7f7f7"
            ],
            [
             0.6,
             "#e6f5d0"
            ],
            [
             0.7,
             "#b8e186"
            ],
            [
             0.8,
             "#7fbc41"
            ],
            [
             0.9,
             "#4d9221"
            ],
            [
             1,
             "#276419"
            ]
           ],
           "sequential": [
            [
             0,
             "#0d0887"
            ],
            [
             0.1111111111111111,
             "#46039f"
            ],
            [
             0.2222222222222222,
             "#7201a8"
            ],
            [
             0.3333333333333333,
             "#9c179e"
            ],
            [
             0.4444444444444444,
             "#bd3786"
            ],
            [
             0.5555555555555556,
             "#d8576b"
            ],
            [
             0.6666666666666666,
             "#ed7953"
            ],
            [
             0.7777777777777778,
             "#fb9f3a"
            ],
            [
             0.8888888888888888,
             "#fdca26"
            ],
            [
             1,
             "#f0f921"
            ]
           ],
           "sequentialminus": [
            [
             0,
             "#0d0887"
            ],
            [
             0.1111111111111111,
             "#46039f"
            ],
            [
             0.2222222222222222,
             "#7201a8"
            ],
            [
             0.3333333333333333,
             "#9c179e"
            ],
            [
             0.4444444444444444,
             "#bd3786"
            ],
            [
             0.5555555555555556,
             "#d8576b"
            ],
            [
             0.6666666666666666,
             "#ed7953"
            ],
            [
             0.7777777777777778,
             "#fb9f3a"
            ],
            [
             0.8888888888888888,
             "#fdca26"
            ],
            [
             1,
             "#f0f921"
            ]
           ]
          },
          "colorway": [
           "#636efa",
           "#EF553B",
           "#00cc96",
           "#ab63fa",
           "#FFA15A",
           "#19d3f3",
           "#FF6692",
           "#B6E880",
           "#FF97FF",
           "#FECB52"
          ],
          "font": {
           "color": "#2a3f5f"
          },
          "geo": {
           "bgcolor": "white",
           "lakecolor": "white",
           "landcolor": "#E5ECF6",
           "showlakes": true,
           "showland": true,
           "subunitcolor": "white"
          },
          "hoverlabel": {
           "align": "left"
          },
          "hovermode": "closest",
          "mapbox": {
           "style": "light"
          },
          "paper_bgcolor": "white",
          "plot_bgcolor": "#E5ECF6",
          "polar": {
           "angularaxis": {
            "gridcolor": "white",
            "linecolor": "white",
            "ticks": ""
           },
           "bgcolor": "#E5ECF6",
           "radialaxis": {
            "gridcolor": "white",
            "linecolor": "white",
            "ticks": ""
           }
          },
          "scene": {
           "xaxis": {
            "backgroundcolor": "#E5ECF6",
            "gridcolor": "white",
            "gridwidth": 2,
            "linecolor": "white",
            "showbackground": true,
            "ticks": "",
            "zerolinecolor": "white"
           },
           "yaxis": {
            "backgroundcolor": "#E5ECF6",
            "gridcolor": "white",
            "gridwidth": 2,
            "linecolor": "white",
            "showbackground": true,
            "ticks": "",
            "zerolinecolor": "white"
           },
           "zaxis": {
            "backgroundcolor": "#E5ECF6",
            "gridcolor": "white",
            "gridwidth": 2,
            "linecolor": "white",
            "showbackground": true,
            "ticks": "",
            "zerolinecolor": "white"
           }
          },
          "shapedefaults": {
           "line": {
            "color": "#2a3f5f"
           }
          },
          "ternary": {
           "aaxis": {
            "gridcolor": "white",
            "linecolor": "white",
            "ticks": ""
           },
           "baxis": {
            "gridcolor": "white",
            "linecolor": "white",
            "ticks": ""
           },
           "bgcolor": "#E5ECF6",
           "caxis": {
            "gridcolor": "white",
            "linecolor": "white",
            "ticks": ""
           }
          },
          "title": {
           "x": 0.05
          },
          "xaxis": {
           "automargin": true,
           "gridcolor": "white",
           "linecolor": "white",
           "ticks": "",
           "title": {
            "standoff": 15
           },
           "zerolinecolor": "white",
           "zerolinewidth": 2
          },
          "yaxis": {
           "automargin": true,
           "gridcolor": "white",
           "linecolor": "white",
           "ticks": "",
           "title": {
            "standoff": 15
           },
           "zerolinecolor": "white",
           "zerolinewidth": 2
          }
         }
        },
        "title": {
         "font": {
          "color": "black",
          "family": "Arial",
          "size": 20
         },
         "text": "<b>Comportamiento de la temperatura</b>"
        },
        "xaxis": {
         "gridcolor": "lightgray",
         "showgrid": true,
         "tickformat": "%Y-%m",
         "title": {
          "text": "<b>Fecha</b>"
         }
        },
        "yaxis": {
         "gridcolor": "lightgray",
         "showgrid": true,
         "title": {
          "text": "<b>Temperatura</b>"
         }
        }
       }
      }
     },
     "metadata": {},
     "output_type": "display_data"
    }
   ],
   "source": [
    "import plotly.graph_objects as go\n",
    "df_pd['Date'] = pd.to_datetime(df_pd['Date'], format = '%d-%m-%Y')\n",
    "df_pd['Temperature'] = df_pd['Temperature'].astype(float)\n",
    "\n",
    "def plot_time_series(df, x_var, y_var, title, xaxis_title, yaxis_title,dash='dash'):\n",
    "    # Asegurar que la variable del eje x esté en formato datetime\n",
    "    if not df[x_var].dtype.name.startswith('datetime'):\n",
    "        df[x_var] = pd.to_datetime(df[x_var])\n",
    "\n",
    "    # Crear figura\n",
    "    fig = go.Figure()\n",
    "\n",
    "    # Agregar la serie con línea punteada\n",
    "    fig.add_trace(go.Scatter(\n",
    "        x=df[x_var],\n",
    "        y=df[y_var],\n",
    "        mode='lines',\n",
    "        name=y_var.replace('_', ' ').capitalize(),\n",
    "        line=dict(color='blue', width=2, dash=dash)\n",
    "    ))\n",
    "\n",
    "    # Actualizar diseño\n",
    "    fig.update_layout(\n",
    "        title=f'<b>{title}</b>',\n",
    "        title_font=dict(size=20, family='Arial', color='black'),\n",
    "        xaxis_title=f'<b>{xaxis_title}</b>',\n",
    "        yaxis_title=f'<b>{yaxis_title}</b>',\n",
    "        font=dict(family='Arial', size=12, color='black'),\n",
    "        plot_bgcolor='white',\n",
    "        paper_bgcolor='white',\n",
    "        hovermode='x unified',\n",
    "        height=400,\n",
    "        margin=dict(l=50, r=50, b=50, t=80)\n",
    "    )\n",
    "\n",
    "    # Formato año-mes en eje x\n",
    "    fig.update_xaxes(showgrid=True, gridcolor='lightgray', tickformat='%Y-%m')\n",
    "    fig.update_yaxes(showgrid=True, gridcolor='lightgray')\n",
    "\n",
    "    fig.show()\n",
    "    return fig\n",
    "\n",
    "fig =plot_time_series(df_pd, 'Date', 'Temperature', \n",
    "                 title='Comportamiento de la temperatura',\n",
    "                 xaxis_title='Fecha',\n",
    "                 yaxis_title='Temperatura',\n",
    "                     dash='dash')"
   ]
  }
 ],
 "metadata": {
  "kernelspec": {
   "display_name": "Pyspark",
   "language": "python",
   "name": "python3"
  },
  "language_info": {
   "codemirror_mode": {
    "name": "ipython",
    "version": 3
   },
   "file_extension": ".py",
   "mimetype": "text/x-python",
   "name": "python",
   "nbconvert_exporter": "python",
   "pygments_lexer": "ipython3",
   "version": "3.12.11"
  }
 },
 "nbformat": 4,
 "nbformat_minor": 5
}
