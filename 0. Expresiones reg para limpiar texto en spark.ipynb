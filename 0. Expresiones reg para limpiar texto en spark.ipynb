{
 "cells": [
  {
   "cell_type": "markdown",
   "id": "e750ba3a",
   "metadata": {},
   "source": [
    "`Expresiones regex útiles para regexp_replace en Spark`\n",
    "\n",
    "`Notas Importantes:`\n",
    "\n",
    "- ^ dentro de [] significa \"no\"\n",
    "- `\\\\` se usa para escapar caracteres especiales\n",
    "\n",
    "Algunos patrones pueden variar según la versión de Spark\n",
    "\n",
    "\n",
    "Consejos:\n",
    "\n",
    "- Prueba siempre tus expresiones regulares\n",
    "- Usa el método más simple que resuelva tu problema"
   ]
  },
  {
   "cell_type": "markdown",
   "id": "76beb600",
   "metadata": {},
   "source": [
    "1. Patrones de Caracteres:\n",
    "\n",
    "- [a-z]       solo letras minúsculas\n",
    "- [A-Z]       solo letras mayúsculas\n",
    "- [a-zA-Z]    todas las letras (mayúsculas y minúsculas)\n",
    "- [0-9]       solo números\n",
    "\n",
    "2. Eliminación de Caracteres:\n",
    "- [^a-z]          elimina todo menos letras minúsculas\n",
    "- [^A-Z]          elimina todo menos letras mayúsculas\n",
    "- [^a-zA-Z]       elimina todo menos letras\n",
    "- [^a-zA-Z ]      elimina todo menos letras y espacios\n",
    "- [^0-9]          elimina todo menos números\n",
    "- [^a-zA-Z0-9]    elimina todo menos letras y números\n",
    "\n",
    "3. Patrones Especiales:\n",
    "- \\d          cualquier dígito\n",
    "- \\D          cualquier NO dígito\n",
    "- \\w          cualquier caracter de palabra (letras, números, guion bajo)\n",
    "- \\W          cualquier NO caracter de palabra\n",
    "- \\s          cualquier espacio en blanco\n",
    "- \\S          cualquier NO espacio en blanco\n",
    "\n",
    "4. Ejemplos Específicos:\n",
    "- [^@.]           elimina todo menos @ y .\n",
    "- [^\\p{ASCII}]    elimina todos los caracteres ASCII\n",
    "- [^\\p{L}]        elimina todas las letras de cualquier idioma\n",
    "- [^a-zA-Z0-9 ]   elimina todo menos letras, números y espacios"
   ]
  },
  {
   "cell_type": "code",
   "execution_count": null,
   "id": "35038fb1",
   "metadata": {},
   "outputs": [],
   "source": [
    "# 1\n",
    "from pyspark.sql.functions import regexp_replace, col, trim\n",
    "\n",
    "df = df.withColumn(\n",
    "    'City',\n",
    "    trim(regexp_replace(col('City'),\"[^a-zA-Z ]\",\"\"))\n",
    ")\n",
    "# opciones que se pueden implementar\n",
    "\n",
    "# Eliminar todos los caracteres especiales\n",
    "regexp_replace(col(\"columna\"), \"[^a-zA-Z ]\", \"\")  # Solo letras y espacios\n",
    "\n",
    "# Eliminar números\n",
    "regexp_replace(col(\"columna\"), \"[0-9]\", \"\")  # Quita todos los dígitos\n",
    "\n",
    "# Eliminar letras\n",
    "regexp_replace(col(\"columna\"), \"[a-zA-Z]\", \"\")  # Quita todas las letras\n",
    "\n",
    "# Mantener solo números\n",
    "regexp_replace(col(\"columna\"), \"[^0-9]\", \"\")  # Solo dígitos\n"
   ]
  },
  {
   "cell_type": "code",
   "execution_count": null,
   "id": "a1dcaa02",
   "metadata": {},
   "outputs": [],
   "source": [
    "#2\n",
    "df = df.withColumn(\n",
    "    'City',\n",
    "    trim(regexp_replace(col('City'),\"[^a-zA-Z ]\",\"\"))\n",
    ")\n",
    "# opciones que se pueden implementar\n",
    "\n",
    "# Eliminar espacios\n",
    "regexp_replace(col(\"columna\"), \"\\\\s\", \"\")  # Quita todos los espacios\n",
    "\n",
    "# Reemplazar múltiples espacios por uno solo\n",
    "regexp_replace(col(\"columna\"), \"\\\\s+\", \" \")\n",
    "\n",
    "# Eliminar puntuación\n",
    "regexp_replace(col(\"columna\"), \"[\\\\p{Punct}]\", \"\")\n",
    "\n",
    "# Eliminar caracteres especiales y acentos\n",
    "regexp_replace(col(\"columna\"), \"[^a-zA-Z0-9 ]\", \"\")\n"
   ]
  },
  {
   "cell_type": "code",
   "execution_count": null,
   "id": "b9e8b624",
   "metadata": {},
   "outputs": [],
   "source": [
    "#3 Validaciones y tranformaciones \n",
    "df = df.withColumn(\n",
    "    'email',\n",
    "    trim(regexp_replace(col('email'),\"[^a-zA-Z0-9@.]\",\"\"))\n",
    ")\n",
    "\n",
    "# Validar email (ejemplo básico)\n",
    "regexp_replace(col(\"email\"), \"[^a-zA-Z0-9@.]\", \"\")\n",
    "\n",
    "# Formatear teléfonos (quitar caracteres no numéricos)\n",
    "regexp_replace(col(\"phone\"), \"[^0-9]\", \"\")\n",
    "\n",
    "# Limpiar nombres (mantener solo letras y espacios)\n",
    "regexp_replace(col(\"name\"), \"[^a-zA-Z ]\", \"\")\n"
   ]
  },
  {
   "cell_type": "code",
   "execution_count": null,
   "id": "87488dd3",
   "metadata": {},
   "outputs": [],
   "source": [
    "#4 Patrones avanzados\n",
    "\n",
    "# Reemplazar caracteres no ASCII\n",
    "regexp_replace(col(\"columna\"), \"[^\\\\p{ASCII}]\", \"\")\n",
    "\n",
    "# Eliminar caracteres Unicode\n",
    "regexp_replace(col(\"columna\"), \"[^\\\\p{L}\\\\p{N} ]\", \"\")\n",
    "\n",
    "# Mantener solo caracteres latinos\n",
    "regexp_replace(col(\"columna\"), \"[^\\\\p{InLatin}]\", \"\")\n"
   ]
  },
  {
   "cell_type": "code",
   "execution_count": null,
   "id": "7d434094",
   "metadata": {},
   "outputs": [],
   "source": [
    "# Eliminar prefijos o sufijos\n",
    "regexp_replace(col(\"columna\"), \"^(Mr\\\\.|Mrs\\\\.|Ms\\\\.) \", \"\")\n",
    "\n",
    "# Reemplazar múltiples espacios\n",
    "regexp_replace(col(\"columna\"), \"\\\\s{2,}\", \" \")\n",
    "\n",
    "# Eliminar saltos de línea\n",
    "regexp_replace(col(\"columna\"), \"\\\\n\", \" \")\n",
    "\n",
    "# Eliminar tabulaciones\n",
    "regexp_replace(col(\"columna\"), \"\\\\t\", \"\")\n"
   ]
  },
  {
   "cell_type": "code",
   "execution_count": null,
   "id": "32dc7ecb",
   "metadata": {},
   "outputs": [],
   "source": [
    "# \\d - Dígitos\n",
    "regexp_replace(col(\"columna\"), \"\\\\d\", \"\")  # Elimina números\n",
    "\n",
    "# \\w - Caracteres de palabra (letras, números, guion bajo)\n",
    "regexp_replace(col(\"columna\"), \"\\\\w\", \"\")  # Elimina caracteres de palabra\n",
    "\n",
    "# \\W - Caracteres que NO son de palabra\n",
    "regexp_replace(col(\"columna\"), \"\\\\W\", \"\")  # Elimina caracteres no alfanuméricos\n"
   ]
  },
  {
   "cell_type": "code",
   "execution_count": null,
   "id": "d11d325d",
   "metadata": {},
   "outputs": [],
   "source": [
    "# Limpiar nombres con múltiples transformaciones\n",
    "df = df.withColumn(\"cleaned_name\", \n",
    "    regexp_replace(\n",
    "        regexp_replace(col(\"name\"), \"[^a-zA-Z ]\", \"\"),  # Quita caracteres especiales\n",
    "        \"\\\\s+\", \" \"  # Reemplaza múltiples espacios\n",
    "    )\n",
    ")\n"
   ]
  }
 ],
 "metadata": {
  "kernelspec": {
   "display_name": "Pyspark",
   "language": "python",
   "name": "python3"
  },
  "language_info": {
   "codemirror_mode": {
    "name": "ipython",
    "version": 3
   },
   "file_extension": ".py",
   "mimetype": "text/x-python",
   "name": "python",
   "nbconvert_exporter": "python",
   "pygments_lexer": "ipython3",
   "version": "3.12.11"
  }
 },
 "nbformat": 4,
 "nbformat_minor": 5
}
